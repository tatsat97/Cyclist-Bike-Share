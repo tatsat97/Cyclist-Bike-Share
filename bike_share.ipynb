{
 "cells": [
  {
   "cell_type": "code",
   "execution_count": 2,
   "metadata": {},
   "outputs": [],
   "source": [
    "import numpy as np\n",
    "import pandas as pd"
   ]
  },
  {
   "cell_type": "code",
   "execution_count": 4,
   "metadata": {},
   "outputs": [],
   "source": [
    "df = pd.read_csv(\"C:\\\\Users\\\\yerpu\\\\OneDrive\\\\Desktop\\\\Data_Analytics\\\\Case_study_Bike_share\\\\Spreadsheets\\\\202205-divvy-tripdata.csv\")"
   ]
  },
  {
   "cell_type": "code",
   "execution_count": null,
   "metadata": {},
   "outputs": [],
   "source": [
    "df.head(10)"
   ]
  },
  {
   "cell_type": "code",
   "execution_count": 6,
   "metadata": {},
   "outputs": [
    {
     "name": "stdout",
     "output_type": "stream",
     "text": [
      "<class 'pandas.core.frame.DataFrame'>\n",
      "RangeIndex: 634858 entries, 0 to 634857\n",
      "Data columns (total 13 columns):\n",
      " #   Column              Non-Null Count   Dtype  \n",
      "---  ------              --------------   -----  \n",
      " 0   ride_id             634858 non-null  object \n",
      " 1   rideable_type       634858 non-null  object \n",
      " 2   started_at          634858 non-null  object \n",
      " 3   ended_at            634858 non-null  object \n",
      " 4   start_station_name  548154 non-null  object \n",
      " 5   start_station_id    548154 non-null  object \n",
      " 6   end_station_name    541687 non-null  object \n",
      " 7   end_station_id      541687 non-null  object \n",
      " 8   start_lat           634858 non-null  float64\n",
      " 9   start_lng           634858 non-null  float64\n",
      " 10  end_lat             634136 non-null  float64\n",
      " 11  end_lng             634136 non-null  float64\n",
      " 12  member_casual       634858 non-null  object \n",
      "dtypes: float64(4), object(9)\n",
      "memory usage: 63.0+ MB\n"
     ]
    }
   ],
   "source": [
    "df.info()"
   ]
  },
  {
   "cell_type": "code",
   "execution_count": 9,
   "metadata": {},
   "outputs": [],
   "source": [
    "# deleting null values from the dataframe as they constitute only a small portion of the data\n",
    "df = df.dropna()\n"
   ]
  },
  {
   "cell_type": "code",
   "execution_count": 10,
   "metadata": {},
   "outputs": [
    {
     "name": "stdout",
     "output_type": "stream",
     "text": [
      "<class 'pandas.core.frame.DataFrame'>\n",
      "Int64Index: 502545 entries, 0 to 634547\n",
      "Data columns (total 13 columns):\n",
      " #   Column              Non-Null Count   Dtype  \n",
      "---  ------              --------------   -----  \n",
      " 0   ride_id             502545 non-null  object \n",
      " 1   rideable_type       502545 non-null  object \n",
      " 2   started_at          502545 non-null  object \n",
      " 3   ended_at            502545 non-null  object \n",
      " 4   start_station_name  502545 non-null  object \n",
      " 5   start_station_id    502545 non-null  object \n",
      " 6   end_station_name    502545 non-null  object \n",
      " 7   end_station_id      502545 non-null  object \n",
      " 8   start_lat           502545 non-null  float64\n",
      " 9   start_lng           502545 non-null  float64\n",
      " 10  end_lat             502545 non-null  float64\n",
      " 11  end_lng             502545 non-null  float64\n",
      " 12  member_casual       502545 non-null  object \n",
      "dtypes: float64(4), object(9)\n",
      "memory usage: 53.7+ MB\n"
     ]
    }
   ],
   "source": [
    "df.info()"
   ]
  },
  {
   "cell_type": "code",
   "execution_count": 13,
   "metadata": {},
   "outputs": [],
   "source": [
    "# adding trip_duration column to the dataframe\n",
    "# but first converting the columns to datetime format\n",
    "df['started_at'] = pd.to_datetime(df['started_at'])\n",
    "df['ended_at'] = pd.to_datetime(df['ended_at'])"
   ]
  },
  {
   "cell_type": "code",
   "execution_count": 14,
   "metadata": {},
   "outputs": [
    {
     "name": "stdout",
     "output_type": "stream",
     "text": [
      "<class 'pandas.core.frame.DataFrame'>\n",
      "Int64Index: 502545 entries, 0 to 634547\n",
      "Data columns (total 13 columns):\n",
      " #   Column              Non-Null Count   Dtype         \n",
      "---  ------              --------------   -----         \n",
      " 0   ride_id             502545 non-null  object        \n",
      " 1   rideable_type       502545 non-null  object        \n",
      " 2   started_at          502545 non-null  datetime64[ns]\n",
      " 3   ended_at            502545 non-null  datetime64[ns]\n",
      " 4   start_station_name  502545 non-null  object        \n",
      " 5   start_station_id    502545 non-null  object        \n",
      " 6   end_station_name    502545 non-null  object        \n",
      " 7   end_station_id      502545 non-null  object        \n",
      " 8   start_lat           502545 non-null  float64       \n",
      " 9   start_lng           502545 non-null  float64       \n",
      " 10  end_lat             502545 non-null  float64       \n",
      " 11  end_lng             502545 non-null  float64       \n",
      " 12  member_casual       502545 non-null  object        \n",
      "dtypes: datetime64[ns](2), float64(4), object(7)\n",
      "memory usage: 53.7+ MB\n"
     ]
    }
   ],
   "source": [
    "df.info()"
   ]
  },
  {
   "cell_type": "code",
   "execution_count": 15,
   "metadata": {},
   "outputs": [],
   "source": [
    "# now calculating the trip_duration column\n",
    "df['trip_duration'] = df['ended_at'] - df['started_at']"
   ]
  },
  {
   "cell_type": "code",
   "execution_count": 16,
   "metadata": {},
   "outputs": [
    {
     "data": {
      "text/plain": [
       "0        0 days 00:33:21\n",
       "1        0 days 00:37:54\n",
       "2        0 days 00:21:50\n",
       "3        0 days 00:08:42\n",
       "4        0 days 00:05:01\n",
       "               ...      \n",
       "634001   0 days 01:06:30\n",
       "634182   0 days 00:00:13\n",
       "634378   0 days 00:34:10\n",
       "634445   0 days 00:18:19\n",
       "634547   0 days 00:01:13\n",
       "Name: trip_duration, Length: 502545, dtype: timedelta64[ns]"
      ]
     },
     "execution_count": 16,
     "metadata": {},
     "output_type": "execute_result"
    }
   ],
   "source": [
    "df['trip_duration']"
   ]
  },
  {
   "cell_type": "code",
   "execution_count": 22,
   "metadata": {},
   "outputs": [],
   "source": [
    "# converting trip_duration to hours\n",
    "df['trip_duration'] = df['trip_duration'].dt.total_seconds() / 3600"
   ]
  },
  {
   "cell_type": "code",
   "execution_count": 23,
   "metadata": {},
   "outputs": [
    {
     "data": {
      "text/plain": [
       "0         0.555833\n",
       "1         0.631667\n",
       "2         0.363889\n",
       "3         0.145000\n",
       "4         0.083611\n",
       "            ...   \n",
       "634001    1.108333\n",
       "634182    0.003611\n",
       "634378    0.569444\n",
       "634445    0.305278\n",
       "634547    0.020278\n",
       "Name: trip_duration, Length: 502545, dtype: float64"
      ]
     },
     "execution_count": 23,
     "metadata": {},
     "output_type": "execute_result"
    }
   ],
   "source": [
    "df['trip_duration']"
   ]
  },
  {
   "cell_type": "code",
   "execution_count": 24,
   "metadata": {},
   "outputs": [
    {
     "data": {
      "text/html": [
       "<div>\n",
       "<style scoped>\n",
       "    .dataframe tbody tr th:only-of-type {\n",
       "        vertical-align: middle;\n",
       "    }\n",
       "\n",
       "    .dataframe tbody tr th {\n",
       "        vertical-align: top;\n",
       "    }\n",
       "\n",
       "    .dataframe thead th {\n",
       "        text-align: right;\n",
       "    }\n",
       "</style>\n",
       "<table border=\"1\" class=\"dataframe\">\n",
       "  <thead>\n",
       "    <tr style=\"text-align: right;\">\n",
       "      <th></th>\n",
       "      <th>ride_id</th>\n",
       "      <th>rideable_type</th>\n",
       "      <th>started_at</th>\n",
       "      <th>ended_at</th>\n",
       "      <th>start_station_name</th>\n",
       "      <th>start_station_id</th>\n",
       "      <th>end_station_name</th>\n",
       "      <th>end_station_id</th>\n",
       "      <th>start_lat</th>\n",
       "      <th>start_lng</th>\n",
       "      <th>end_lat</th>\n",
       "      <th>end_lng</th>\n",
       "      <th>member_casual</th>\n",
       "      <th>trip_duration</th>\n",
       "    </tr>\n",
       "  </thead>\n",
       "  <tbody>\n",
       "    <tr>\n",
       "      <th>0</th>\n",
       "      <td>EC2DE40644C6B0F4</td>\n",
       "      <td>classic_bike</td>\n",
       "      <td>2022-05-23 23:06:58</td>\n",
       "      <td>2022-05-23 23:40:19</td>\n",
       "      <td>Wabash Ave &amp; Grand Ave</td>\n",
       "      <td>TA1307000117</td>\n",
       "      <td>Halsted St &amp; Roscoe St</td>\n",
       "      <td>TA1309000025</td>\n",
       "      <td>41.891466</td>\n",
       "      <td>-87.626761</td>\n",
       "      <td>41.943670</td>\n",
       "      <td>-87.648950</td>\n",
       "      <td>member</td>\n",
       "      <td>0.555833</td>\n",
       "    </tr>\n",
       "    <tr>\n",
       "      <th>1</th>\n",
       "      <td>1C31AD03897EE385</td>\n",
       "      <td>classic_bike</td>\n",
       "      <td>2022-05-11 08:53:28</td>\n",
       "      <td>2022-05-11 09:31:22</td>\n",
       "      <td>DuSable Lake Shore Dr &amp; Monroe St</td>\n",
       "      <td>13300</td>\n",
       "      <td>Field Blvd &amp; South Water St</td>\n",
       "      <td>15534</td>\n",
       "      <td>41.880958</td>\n",
       "      <td>-87.616743</td>\n",
       "      <td>41.886349</td>\n",
       "      <td>-87.617517</td>\n",
       "      <td>member</td>\n",
       "      <td>0.631667</td>\n",
       "    </tr>\n",
       "    <tr>\n",
       "      <th>2</th>\n",
       "      <td>1542FBEC830415CF</td>\n",
       "      <td>classic_bike</td>\n",
       "      <td>2022-05-26 18:36:28</td>\n",
       "      <td>2022-05-26 18:58:18</td>\n",
       "      <td>Clinton St &amp; Madison St</td>\n",
       "      <td>TA1305000032</td>\n",
       "      <td>Wood St &amp; Milwaukee Ave</td>\n",
       "      <td>13221</td>\n",
       "      <td>41.882242</td>\n",
       "      <td>-87.641066</td>\n",
       "      <td>41.907655</td>\n",
       "      <td>-87.672552</td>\n",
       "      <td>member</td>\n",
       "      <td>0.363889</td>\n",
       "    </tr>\n",
       "    <tr>\n",
       "      <th>3</th>\n",
       "      <td>6FF59852924528F8</td>\n",
       "      <td>classic_bike</td>\n",
       "      <td>2022-05-10 07:30:07</td>\n",
       "      <td>2022-05-10 07:38:49</td>\n",
       "      <td>Clinton St &amp; Madison St</td>\n",
       "      <td>TA1305000032</td>\n",
       "      <td>Clark St &amp; Randolph St</td>\n",
       "      <td>TA1305000030</td>\n",
       "      <td>41.882242</td>\n",
       "      <td>-87.641066</td>\n",
       "      <td>41.884576</td>\n",
       "      <td>-87.631890</td>\n",
       "      <td>member</td>\n",
       "      <td>0.145000</td>\n",
       "    </tr>\n",
       "    <tr>\n",
       "      <th>4</th>\n",
       "      <td>483C52CAAE12E3AC</td>\n",
       "      <td>classic_bike</td>\n",
       "      <td>2022-05-10 17:31:56</td>\n",
       "      <td>2022-05-10 17:36:57</td>\n",
       "      <td>Clinton St &amp; Madison St</td>\n",
       "      <td>TA1305000032</td>\n",
       "      <td>Morgan St &amp; Lake St</td>\n",
       "      <td>TA1306000015</td>\n",
       "      <td>41.882242</td>\n",
       "      <td>-87.641066</td>\n",
       "      <td>41.885779</td>\n",
       "      <td>-87.651025</td>\n",
       "      <td>member</td>\n",
       "      <td>0.083611</td>\n",
       "    </tr>\n",
       "  </tbody>\n",
       "</table>\n",
       "</div>"
      ],
      "text/plain": [
       "            ride_id rideable_type          started_at            ended_at  \\\n",
       "0  EC2DE40644C6B0F4  classic_bike 2022-05-23 23:06:58 2022-05-23 23:40:19   \n",
       "1  1C31AD03897EE385  classic_bike 2022-05-11 08:53:28 2022-05-11 09:31:22   \n",
       "2  1542FBEC830415CF  classic_bike 2022-05-26 18:36:28 2022-05-26 18:58:18   \n",
       "3  6FF59852924528F8  classic_bike 2022-05-10 07:30:07 2022-05-10 07:38:49   \n",
       "4  483C52CAAE12E3AC  classic_bike 2022-05-10 17:31:56 2022-05-10 17:36:57   \n",
       "\n",
       "                  start_station_name start_station_id  \\\n",
       "0             Wabash Ave & Grand Ave     TA1307000117   \n",
       "1  DuSable Lake Shore Dr & Monroe St            13300   \n",
       "2            Clinton St & Madison St     TA1305000032   \n",
       "3            Clinton St & Madison St     TA1305000032   \n",
       "4            Clinton St & Madison St     TA1305000032   \n",
       "\n",
       "              end_station_name end_station_id  start_lat  start_lng  \\\n",
       "0       Halsted St & Roscoe St   TA1309000025  41.891466 -87.626761   \n",
       "1  Field Blvd & South Water St          15534  41.880958 -87.616743   \n",
       "2      Wood St & Milwaukee Ave          13221  41.882242 -87.641066   \n",
       "3       Clark St & Randolph St   TA1305000030  41.882242 -87.641066   \n",
       "4          Morgan St & Lake St   TA1306000015  41.882242 -87.641066   \n",
       "\n",
       "     end_lat    end_lng member_casual  trip_duration  \n",
       "0  41.943670 -87.648950        member       0.555833  \n",
       "1  41.886349 -87.617517        member       0.631667  \n",
       "2  41.907655 -87.672552        member       0.363889  \n",
       "3  41.884576 -87.631890        member       0.145000  \n",
       "4  41.885779 -87.651025        member       0.083611  "
      ]
     },
     "execution_count": 24,
     "metadata": {},
     "output_type": "execute_result"
    }
   ],
   "source": [
    "df.head()"
   ]
  },
  {
   "cell_type": "code",
   "execution_count": 25,
   "metadata": {},
   "outputs": [],
   "source": [
    "# creating a new column day_of_week\n",
    "df['day_of_week'] = df['started_at'].dt.day_name()"
   ]
  },
  {
   "cell_type": "code",
   "execution_count": 26,
   "metadata": {},
   "outputs": [
    {
     "data": {
      "text/plain": [
       "0            Monday\n",
       "1         Wednesday\n",
       "2          Thursday\n",
       "3           Tuesday\n",
       "4           Tuesday\n",
       "            ...    \n",
       "634001       Sunday\n",
       "634182     Saturday\n",
       "634378       Friday\n",
       "634445       Monday\n",
       "634547     Thursday\n",
       "Name: day_of_week, Length: 502545, dtype: object"
      ]
     },
     "execution_count": 26,
     "metadata": {},
     "output_type": "execute_result"
    }
   ],
   "source": [
    "df['day_of_week']"
   ]
  },
  {
   "cell_type": "code",
   "execution_count": 28,
   "metadata": {},
   "outputs": [
    {
     "data": {
      "text/html": [
       "<div>\n",
       "<style scoped>\n",
       "    .dataframe tbody tr th:only-of-type {\n",
       "        vertical-align: middle;\n",
       "    }\n",
       "\n",
       "    .dataframe tbody tr th {\n",
       "        vertical-align: top;\n",
       "    }\n",
       "\n",
       "    .dataframe thead th {\n",
       "        text-align: right;\n",
       "    }\n",
       "</style>\n",
       "<table border=\"1\" class=\"dataframe\">\n",
       "  <thead>\n",
       "    <tr style=\"text-align: right;\">\n",
       "      <th></th>\n",
       "      <th>ride_id</th>\n",
       "      <th>rideable_type</th>\n",
       "      <th>started_at</th>\n",
       "      <th>ended_at</th>\n",
       "      <th>start_station_name</th>\n",
       "      <th>start_station_id</th>\n",
       "      <th>end_station_name</th>\n",
       "      <th>end_station_id</th>\n",
       "      <th>start_lat</th>\n",
       "      <th>start_lng</th>\n",
       "      <th>end_lat</th>\n",
       "      <th>end_lng</th>\n",
       "      <th>member_casual</th>\n",
       "      <th>trip_duration</th>\n",
       "      <th>day_of_week</th>\n",
       "    </tr>\n",
       "  </thead>\n",
       "  <tbody>\n",
       "    <tr>\n",
       "      <th>0</th>\n",
       "      <td>EC2DE40644C6B0F4</td>\n",
       "      <td>classic_bike</td>\n",
       "      <td>2022-05-23 23:06:58</td>\n",
       "      <td>2022-05-23 23:40:19</td>\n",
       "      <td>Wabash Ave &amp; Grand Ave</td>\n",
       "      <td>TA1307000117</td>\n",
       "      <td>Halsted St &amp; Roscoe St</td>\n",
       "      <td>TA1309000025</td>\n",
       "      <td>41.891466</td>\n",
       "      <td>-87.626761</td>\n",
       "      <td>41.943670</td>\n",
       "      <td>-87.648950</td>\n",
       "      <td>member</td>\n",
       "      <td>0.555833</td>\n",
       "      <td>Monday</td>\n",
       "    </tr>\n",
       "    <tr>\n",
       "      <th>1</th>\n",
       "      <td>1C31AD03897EE385</td>\n",
       "      <td>classic_bike</td>\n",
       "      <td>2022-05-11 08:53:28</td>\n",
       "      <td>2022-05-11 09:31:22</td>\n",
       "      <td>DuSable Lake Shore Dr &amp; Monroe St</td>\n",
       "      <td>13300</td>\n",
       "      <td>Field Blvd &amp; South Water St</td>\n",
       "      <td>15534</td>\n",
       "      <td>41.880958</td>\n",
       "      <td>-87.616743</td>\n",
       "      <td>41.886349</td>\n",
       "      <td>-87.617517</td>\n",
       "      <td>member</td>\n",
       "      <td>0.631667</td>\n",
       "      <td>Wednesday</td>\n",
       "    </tr>\n",
       "    <tr>\n",
       "      <th>2</th>\n",
       "      <td>1542FBEC830415CF</td>\n",
       "      <td>classic_bike</td>\n",
       "      <td>2022-05-26 18:36:28</td>\n",
       "      <td>2022-05-26 18:58:18</td>\n",
       "      <td>Clinton St &amp; Madison St</td>\n",
       "      <td>TA1305000032</td>\n",
       "      <td>Wood St &amp; Milwaukee Ave</td>\n",
       "      <td>13221</td>\n",
       "      <td>41.882242</td>\n",
       "      <td>-87.641066</td>\n",
       "      <td>41.907655</td>\n",
       "      <td>-87.672552</td>\n",
       "      <td>member</td>\n",
       "      <td>0.363889</td>\n",
       "      <td>Thursday</td>\n",
       "    </tr>\n",
       "    <tr>\n",
       "      <th>3</th>\n",
       "      <td>6FF59852924528F8</td>\n",
       "      <td>classic_bike</td>\n",
       "      <td>2022-05-10 07:30:07</td>\n",
       "      <td>2022-05-10 07:38:49</td>\n",
       "      <td>Clinton St &amp; Madison St</td>\n",
       "      <td>TA1305000032</td>\n",
       "      <td>Clark St &amp; Randolph St</td>\n",
       "      <td>TA1305000030</td>\n",
       "      <td>41.882242</td>\n",
       "      <td>-87.641066</td>\n",
       "      <td>41.884576</td>\n",
       "      <td>-87.631890</td>\n",
       "      <td>member</td>\n",
       "      <td>0.145000</td>\n",
       "      <td>Tuesday</td>\n",
       "    </tr>\n",
       "    <tr>\n",
       "      <th>4</th>\n",
       "      <td>483C52CAAE12E3AC</td>\n",
       "      <td>classic_bike</td>\n",
       "      <td>2022-05-10 17:31:56</td>\n",
       "      <td>2022-05-10 17:36:57</td>\n",
       "      <td>Clinton St &amp; Madison St</td>\n",
       "      <td>TA1305000032</td>\n",
       "      <td>Morgan St &amp; Lake St</td>\n",
       "      <td>TA1306000015</td>\n",
       "      <td>41.882242</td>\n",
       "      <td>-87.641066</td>\n",
       "      <td>41.885779</td>\n",
       "      <td>-87.651025</td>\n",
       "      <td>member</td>\n",
       "      <td>0.083611</td>\n",
       "      <td>Tuesday</td>\n",
       "    </tr>\n",
       "  </tbody>\n",
       "</table>\n",
       "</div>"
      ],
      "text/plain": [
       "            ride_id rideable_type          started_at            ended_at  \\\n",
       "0  EC2DE40644C6B0F4  classic_bike 2022-05-23 23:06:58 2022-05-23 23:40:19   \n",
       "1  1C31AD03897EE385  classic_bike 2022-05-11 08:53:28 2022-05-11 09:31:22   \n",
       "2  1542FBEC830415CF  classic_bike 2022-05-26 18:36:28 2022-05-26 18:58:18   \n",
       "3  6FF59852924528F8  classic_bike 2022-05-10 07:30:07 2022-05-10 07:38:49   \n",
       "4  483C52CAAE12E3AC  classic_bike 2022-05-10 17:31:56 2022-05-10 17:36:57   \n",
       "\n",
       "                  start_station_name start_station_id  \\\n",
       "0             Wabash Ave & Grand Ave     TA1307000117   \n",
       "1  DuSable Lake Shore Dr & Monroe St            13300   \n",
       "2            Clinton St & Madison St     TA1305000032   \n",
       "3            Clinton St & Madison St     TA1305000032   \n",
       "4            Clinton St & Madison St     TA1305000032   \n",
       "\n",
       "              end_station_name end_station_id  start_lat  start_lng  \\\n",
       "0       Halsted St & Roscoe St   TA1309000025  41.891466 -87.626761   \n",
       "1  Field Blvd & South Water St          15534  41.880958 -87.616743   \n",
       "2      Wood St & Milwaukee Ave          13221  41.882242 -87.641066   \n",
       "3       Clark St & Randolph St   TA1305000030  41.882242 -87.641066   \n",
       "4          Morgan St & Lake St   TA1306000015  41.882242 -87.641066   \n",
       "\n",
       "     end_lat    end_lng member_casual  trip_duration day_of_week  \n",
       "0  41.943670 -87.648950        member       0.555833      Monday  \n",
       "1  41.886349 -87.617517        member       0.631667   Wednesday  \n",
       "2  41.907655 -87.672552        member       0.363889    Thursday  \n",
       "3  41.884576 -87.631890        member       0.145000     Tuesday  \n",
       "4  41.885779 -87.651025        member       0.083611     Tuesday  "
      ]
     },
     "execution_count": 28,
     "metadata": {},
     "output_type": "execute_result"
    }
   ],
   "source": [
    "df.head()"
   ]
  },
  {
   "cell_type": "code",
   "execution_count": 29,
   "metadata": {},
   "outputs": [
    {
     "data": {
      "text/plain": [
       "0"
      ]
     },
     "execution_count": 29,
     "metadata": {},
     "output_type": "execute_result"
    }
   ],
   "source": [
    "# checking if we have duplicate rows\n",
    "df.duplicated().sum()"
   ]
  },
  {
   "cell_type": "code",
   "execution_count": 31,
   "metadata": {},
   "outputs": [
    {
     "name": "stdout",
     "output_type": "stream",
     "text": [
      "<class 'pandas.core.frame.DataFrame'>\n",
      "Int64Index: 502545 entries, 0 to 634547\n",
      "Data columns (total 15 columns):\n",
      " #   Column              Non-Null Count   Dtype         \n",
      "---  ------              --------------   -----         \n",
      " 0   ride_id             502545 non-null  object        \n",
      " 1   rideable_type       502545 non-null  object        \n",
      " 2   started_at          502545 non-null  datetime64[ns]\n",
      " 3   ended_at            502545 non-null  datetime64[ns]\n",
      " 4   start_station_name  502545 non-null  object        \n",
      " 5   start_station_id    502545 non-null  object        \n",
      " 6   end_station_name    502545 non-null  object        \n",
      " 7   end_station_id      502545 non-null  object        \n",
      " 8   start_lat           502545 non-null  float64       \n",
      " 9   start_lng           502545 non-null  float64       \n",
      " 10  end_lat             502545 non-null  float64       \n",
      " 11  end_lng             502545 non-null  float64       \n",
      " 12  member_casual       502545 non-null  object        \n",
      " 13  trip_duration       502545 non-null  float64       \n",
      " 14  day_of_week         502545 non-null  object        \n",
      "dtypes: datetime64[ns](2), float64(5), object(8)\n",
      "memory usage: 61.3+ MB\n"
     ]
    }
   ],
   "source": [
    "df.info()"
   ]
  },
  {
   "cell_type": "code",
   "execution_count": 32,
   "metadata": {},
   "outputs": [
    {
     "data": {
      "text/plain": [
       "Monday       87281\n",
       "Sunday       83246\n",
       "Saturday     78704\n",
       "Tuesday      74965\n",
       "Thursday     66620\n",
       "Friday       58076\n",
       "Wednesday    53653\n",
       "Name: day_of_week, dtype: int64"
      ]
     },
     "execution_count": 32,
     "metadata": {},
     "output_type": "execute_result"
    }
   ],
   "source": [
    "# let's find out which day has the most trips\n",
    "df['day_of_week'].value_counts()"
   ]
  },
  {
   "cell_type": "code",
   "execution_count": 35,
   "metadata": {},
   "outputs": [
    {
     "data": {
      "text/plain": [
       "<AxesSubplot:>"
      ]
     },
     "execution_count": 35,
     "metadata": {},
     "output_type": "execute_result"
    },
    {
     "data": {
      "image/png": "[encoded data removed]",
      "text/plain": [
       "<Figure size 432x288 with 1 Axes>"
      ]
     },
     "metadata": {
      "needs_background": "light"
     },
     "output_type": "display_data"
    }
   ],
   "source": [
    "# plotting the day_of_week column vs total trips snd sort them according to the total trips\n",
    "df['day_of_week'].value_counts().plot(kind='bar')\n"
   ]
  },
  {
   "cell_type": "code",
   "execution_count": 38,
   "metadata": {},
   "outputs": [
    {
     "data": {
      "text/html": [
       "<div>\n",
       "<style scoped>\n",
       "    .dataframe tbody tr th:only-of-type {\n",
       "        vertical-align: middle;\n",
       "    }\n",
       "\n",
       "    .dataframe tbody tr th {\n",
       "        vertical-align: top;\n",
       "    }\n",
       "\n",
       "    .dataframe thead th {\n",
       "        text-align: right;\n",
       "    }\n",
       "</style>\n",
       "<table border=\"1\" class=\"dataframe\">\n",
       "  <thead>\n",
       "    <tr style=\"text-align: right;\">\n",
       "      <th></th>\n",
       "      <th>ride_id</th>\n",
       "      <th>rideable_type</th>\n",
       "      <th>started_at</th>\n",
       "      <th>ended_at</th>\n",
       "      <th>start_station_name</th>\n",
       "      <th>start_station_id</th>\n",
       "      <th>end_station_name</th>\n",
       "      <th>end_station_id</th>\n",
       "      <th>start_lat</th>\n",
       "      <th>start_lng</th>\n",
       "      <th>end_lat</th>\n",
       "      <th>end_lng</th>\n",
       "      <th>member_casual</th>\n",
       "      <th>trip_duration</th>\n",
       "      <th>day_of_week</th>\n",
       "    </tr>\n",
       "  </thead>\n",
       "  <tbody>\n",
       "    <tr>\n",
       "      <th>0</th>\n",
       "      <td>EC2DE40644C6B0F4</td>\n",
       "      <td>classic_bike</td>\n",
       "      <td>2022-05-23 23:06:58</td>\n",
       "      <td>2022-05-23 23:40:19</td>\n",
       "      <td>Wabash Ave &amp; Grand Ave</td>\n",
       "      <td>TA1307000117</td>\n",
       "      <td>Halsted St &amp; Roscoe St</td>\n",
       "      <td>TA1309000025</td>\n",
       "      <td>41.891466</td>\n",
       "      <td>-87.626761</td>\n",
       "      <td>41.943670</td>\n",
       "      <td>-87.648950</td>\n",
       "      <td>member</td>\n",
       "      <td>0.555833</td>\n",
       "      <td>Monday</td>\n",
       "    </tr>\n",
       "    <tr>\n",
       "      <th>1</th>\n",
       "      <td>1C31AD03897EE385</td>\n",
       "      <td>classic_bike</td>\n",
       "      <td>2022-05-11 08:53:28</td>\n",
       "      <td>2022-05-11 09:31:22</td>\n",
       "      <td>DuSable Lake Shore Dr &amp; Monroe St</td>\n",
       "      <td>13300</td>\n",
       "      <td>Field Blvd &amp; South Water St</td>\n",
       "      <td>15534</td>\n",
       "      <td>41.880958</td>\n",
       "      <td>-87.616743</td>\n",
       "      <td>41.886349</td>\n",
       "      <td>-87.617517</td>\n",
       "      <td>member</td>\n",
       "      <td>0.631667</td>\n",
       "      <td>Wednesday</td>\n",
       "    </tr>\n",
       "    <tr>\n",
       "      <th>2</th>\n",
       "      <td>1542FBEC830415CF</td>\n",
       "      <td>classic_bike</td>\n",
       "      <td>2022-05-26 18:36:28</td>\n",
       "      <td>2022-05-26 18:58:18</td>\n",
       "      <td>Clinton St &amp; Madison St</td>\n",
       "      <td>TA1305000032</td>\n",
       "      <td>Wood St &amp; Milwaukee Ave</td>\n",
       "      <td>13221</td>\n",
       "      <td>41.882242</td>\n",
       "      <td>-87.641066</td>\n",
       "      <td>41.907655</td>\n",
       "      <td>-87.672552</td>\n",
       "      <td>member</td>\n",
       "      <td>0.363889</td>\n",
       "      <td>Thursday</td>\n",
       "    </tr>\n",
       "    <tr>\n",
       "      <th>3</th>\n",
       "      <td>6FF59852924528F8</td>\n",
       "      <td>classic_bike</td>\n",
       "      <td>2022-05-10 07:30:07</td>\n",
       "      <td>2022-05-10 07:38:49</td>\n",
       "      <td>Clinton St &amp; Madison St</td>\n",
       "      <td>TA1305000032</td>\n",
       "      <td>Clark St &amp; Randolph St</td>\n",
       "      <td>TA1305000030</td>\n",
       "      <td>41.882242</td>\n",
       "      <td>-87.641066</td>\n",
       "      <td>41.884576</td>\n",
       "      <td>-87.631890</td>\n",
       "      <td>member</td>\n",
       "      <td>0.145000</td>\n",
       "      <td>Tuesday</td>\n",
       "    </tr>\n",
       "    <tr>\n",
       "      <th>4</th>\n",
       "      <td>483C52CAAE12E3AC</td>\n",
       "      <td>classic_bike</td>\n",
       "      <td>2022-05-10 17:31:56</td>\n",
       "      <td>2022-05-10 17:36:57</td>\n",
       "      <td>Clinton St &amp; Madison St</td>\n",
       "      <td>TA1305000032</td>\n",
       "      <td>Morgan St &amp; Lake St</td>\n",
       "      <td>TA1306000015</td>\n",
       "      <td>41.882242</td>\n",
       "      <td>-87.641066</td>\n",
       "      <td>41.885779</td>\n",
       "      <td>-87.651025</td>\n",
       "      <td>member</td>\n",
       "      <td>0.083611</td>\n",
       "      <td>Tuesday</td>\n",
       "    </tr>\n",
       "  </tbody>\n",
       "</table>\n",
       "</div>"
      ],
      "text/plain": [
       "            ride_id rideable_type          started_at            ended_at  \\\n",
       "0  EC2DE40644C6B0F4  classic_bike 2022-05-23 23:06:58 2022-05-23 23:40:19   \n",
       "1  1C31AD03897EE385  classic_bike 2022-05-11 08:53:28 2022-05-11 09:31:22   \n",
       "2  1542FBEC830415CF  classic_bike 2022-05-26 18:36:28 2022-05-26 18:58:18   \n",
       "3  6FF59852924528F8  classic_bike 2022-05-10 07:30:07 2022-05-10 07:38:49   \n",
       "4  483C52CAAE12E3AC  classic_bike 2022-05-10 17:31:56 2022-05-10 17:36:57   \n",
       "\n",
       "                  start_station_name start_station_id  \\\n",
       "0             Wabash Ave & Grand Ave     TA1307000117   \n",
       "1  DuSable Lake Shore Dr & Monroe St            13300   \n",
       "2            Clinton St & Madison St     TA1305000032   \n",
       "3            Clinton St & Madison St     TA1305000032   \n",
       "4            Clinton St & Madison St     TA1305000032   \n",
       "\n",
       "              end_station_name end_station_id  start_lat  start_lng  \\\n",
       "0       Halsted St & Roscoe St   TA1309000025  41.891466 -87.626761   \n",
       "1  Field Blvd & South Water St          15534  41.880958 -87.616743   \n",
       "2      Wood St & Milwaukee Ave          13221  41.882242 -87.641066   \n",
       "3       Clark St & Randolph St   TA1305000030  41.882242 -87.641066   \n",
       "4          Morgan St & Lake St   TA1306000015  41.882242 -87.641066   \n",
       "\n",
       "     end_lat    end_lng member_casual  trip_duration day_of_week  \n",
       "0  41.943670 -87.648950        member       0.555833      Monday  \n",
       "1  41.886349 -87.617517        member       0.631667   Wednesday  \n",
       "2  41.907655 -87.672552        member       0.363889    Thursday  \n",
       "3  41.884576 -87.631890        member       0.145000     Tuesday  \n",
       "4  41.885779 -87.651025        member       0.083611     Tuesday  "
      ]
     },
     "execution_count": 38,
     "metadata": {},
     "output_type": "execute_result"
    }
   ],
   "source": [
    "df.head()"
   ]
  },
  {
   "cell_type": "code",
   "execution_count": 39,
   "metadata": {},
   "outputs": [],
   "source": [
    "# let's calculate distance wrt to latitudes and longitudes given\n",
    "\n",
    "# Input them in the haversine distance\n",
    "#  formula: d = 2R⋅sin⁻¹(√[sin²((θ₂ - θ₁)/2) + cosθ₁⋅cosθ₂⋅sin²((φ₂ - φ₁)/2)])"
   ]
  },
  {
   "cell_type": "code",
   "execution_count": 40,
   "metadata": {},
   "outputs": [],
   "source": [
    "# let's calculate the distance between the start and end points of the trip\n",
    "# first we need to convert the latitudes and longitudes to radians\n",
    "df['start_lat'] = df['start_lat'].apply(lambda x: np.radians(x))\n",
    "df['start_lng'] = df['start_lng'].apply(lambda x: np.radians(x))\n",
    "df['end_lat'] = df['end_lat'].apply(lambda x: np.radians(x))\n",
    "df['end_lng'] = df['end_lng'].apply(lambda x: np.radians(x))\n",
    "\n"
   ]
  },
  {
   "cell_type": "code",
   "execution_count": 41,
   "metadata": {},
   "outputs": [
    {
     "data": {
      "text/plain": [
       "0         0.731144\n",
       "1         0.730961\n",
       "2         0.730983\n",
       "3         0.730983\n",
       "4         0.730983\n",
       "            ...   \n",
       "634001    0.731346\n",
       "634182    0.731689\n",
       "634378    0.732367\n",
       "634445    0.731689\n",
       "634547    0.730595\n",
       "Name: start_lat, Length: 502545, dtype: float64"
      ]
     },
     "execution_count": 41,
     "metadata": {},
     "output_type": "execute_result"
    }
   ],
   "source": [
    "df['start_lat']"
   ]
  },
  {
   "cell_type": "code",
   "execution_count": 45,
   "metadata": {},
   "outputs": [],
   "source": [
    "# now we can calculate the distance\n",
    "df['distance'] = 2 * 6371 * np.arcsin(np.sqrt(np.sin((df['end_lat'] - df['start_lat']) / 2) ** 2 + np.cos(df['start_lat']) * np.cos(df['end_lat']) * np.sin((df['end_lng'] - df['start_lng']) / 2) ** 2))\n",
    "# refferced from :- https://www.omnicalculator.com/other/latitude-longitude-distance#:~:text=The%20distance%20between%20any%20two%20latitudes%20is%20approximately%2069%20miles,and%20meet%20at%20the%20poles."
   ]
  },
  {
   "cell_type": "code",
   "execution_count": 46,
   "metadata": {},
   "outputs": [
    {
     "data": {
      "text/plain": [
       "0         6.088235\n",
       "1         0.602870\n",
       "2         3.844073\n",
       "3         0.802763\n",
       "4         0.913438\n",
       "            ...   \n",
       "634001    2.257702\n",
       "634182    0.000000\n",
       "634378    0.000000\n",
       "634445    0.000000\n",
       "634547    0.000000\n",
       "Name: distance, Length: 502545, dtype: float64"
      ]
     },
     "execution_count": 46,
     "metadata": {},
     "output_type": "execute_result"
    }
   ],
   "source": [
    "df['distance']"
   ]
  },
  {
   "cell_type": "code",
   "execution_count": 64,
   "metadata": {},
   "outputs": [
    {
     "data": {
      "image/png": "[encoded data removed]",
      "text/plain": [
       "<Figure size 432x288 with 1 Axes>"
      ]
     },
     "metadata": {},
     "output_type": "display_data"
    }
   ],
   "source": [
    "import matplotlib.pyplot as plt\n",
    "# how many casual and how many members are there in the dataframe\n",
    "\n",
    "# df['member_casual'].value_counts()\n",
    "# creating a pie_Chart for the casual and member\n",
    "plt.pie(df['member_casual'].value_counts(), labels=['Member', 'Casual'], autopct='%1.1f%%')\n",
    "plt.title('Member vs Casual')\n",
    "plt.legend(loc='upper right')\n",
    "\n",
    "plt.show()"
   ]
  },
  {
   "cell_type": "code",
   "execution_count": 49,
   "metadata": {},
   "outputs": [],
   "source": [
    "# we've got trip duration in hours and distance covered in km\n",
    "# let's calculate the average ride_length for members and casual riders\n",
    "avg_ride_length_members = df[df['member_casual'] == 'member']['distance'].mean()\n",
    "avg_ride_length_casual = df[df['member_casual'] == 'casual']['distance'].mean()\n"
   ]
  },
  {
   "cell_type": "code",
   "execution_count": 50,
   "metadata": {},
   "outputs": [
    {
     "data": {
      "text/plain": [
       "2.1216485239532688"
      ]
     },
     "execution_count": 50,
     "metadata": {},
     "output_type": "execute_result"
    }
   ],
   "source": [
    "avg_ride_length_members"
   ]
  },
  {
   "cell_type": "code",
   "execution_count": 51,
   "metadata": {},
   "outputs": [
    {
     "data": {
      "text/plain": [
       "2.2106817202575857"
      ]
     },
     "execution_count": 51,
     "metadata": {},
     "output_type": "execute_result"
    }
   ],
   "source": [
    "avg_ride_length_casual"
   ]
  },
  {
   "cell_type": "code",
   "execution_count": 52,
   "metadata": {},
   "outputs": [],
   "source": [
    "# avg trip duration for members and casual riders\n",
    "avg_trip_duration_members = df[df['member_casual'] == 'member']['trip_duration'].mean()\n",
    "avg_trip_duration_casual = df[df['member_casual'] == 'casual']['trip_duration'].mean()\n"
   ]
  },
  {
   "cell_type": "code",
   "execution_count": 53,
   "metadata": {},
   "outputs": [
    {
     "data": {
      "text/plain": [
       "0.46174648019840436"
      ]
     },
     "execution_count": 53,
     "metadata": {},
     "output_type": "execute_result"
    }
   ],
   "source": [
    "avg_trip_duration_casual\n"
   ]
  },
  {
   "cell_type": "code",
   "execution_count": 54,
   "metadata": {},
   "outputs": [
    {
     "data": {
      "text/plain": [
       "0.22168044638249992"
      ]
     },
     "execution_count": 54,
     "metadata": {},
     "output_type": "execute_result"
    }
   ],
   "source": [
    "avg_trip_duration_members"
   ]
  },
  {
   "cell_type": "code",
   "execution_count": 55,
   "metadata": {},
   "outputs": [],
   "source": [
    "# let's calculate the average number of trips per day for members and casual riders\n",
    "avg_trips_per_day_members = df[df['member_casual'] == 'member']['day_of_week'].value_counts().mean()\n",
    "avg_trip_per_day_casual = df[df['member_casual'] == 'casual']['day_of_week'].value_counts().mean()\n"
   ]
  },
  {
   "cell_type": "code",
   "execution_count": 56,
   "metadata": {},
   "outputs": [
    {
     "data": {
      "text/plain": [
       "40328.42857142857"
      ]
     },
     "execution_count": 56,
     "metadata": {},
     "output_type": "execute_result"
    }
   ],
   "source": [
    "avg_trips_per_day_members"
   ]
  },
  {
   "cell_type": "code",
   "execution_count": 57,
   "metadata": {},
   "outputs": [
    {
     "data": {
      "text/plain": [
       "31463.714285714286"
      ]
     },
     "execution_count": 57,
     "metadata": {},
     "output_type": "execute_result"
    }
   ],
   "source": [
    "avg_trip_per_day_casual"
   ]
  },
  {
   "cell_type": "code",
   "execution_count": 71,
   "metadata": {},
   "outputs": [
    {
     "data": {
      "text/plain": [
       "28.035731971076306"
      ]
     },
     "execution_count": 71,
     "metadata": {},
     "output_type": "execute_result"
    }
   ],
   "source": [
    "\n",
    "# discriptive analysis\n",
    "# calculating max_ride length overall.\n",
    "max_ride_length = max(df['distance'])\n",
    "max_ride_length"
   ]
  },
  {
   "cell_type": "code",
   "execution_count": 72,
   "metadata": {},
   "outputs": [
    {
     "data": {
      "text/plain": [
       "178.7161111111111"
      ]
     },
     "execution_count": 72,
     "metadata": {},
     "output_type": "execute_result"
    }
   ],
   "source": [
    "max_duration = max(df['trip_duration'])\n",
    "max_duration"
   ]
  },
  {
   "cell_type": "code",
   "execution_count": 73,
   "metadata": {},
   "outputs": [
    {
     "data": {
      "text/html": [
       "<div>\n",
       "<style scoped>\n",
       "    .dataframe tbody tr th:only-of-type {\n",
       "        vertical-align: middle;\n",
       "    }\n",
       "\n",
       "    .dataframe tbody tr th {\n",
       "        vertical-align: top;\n",
       "    }\n",
       "\n",
       "    .dataframe thead th {\n",
       "        text-align: right;\n",
       "    }\n",
       "</style>\n",
       "<table border=\"1\" class=\"dataframe\">\n",
       "  <thead>\n",
       "    <tr style=\"text-align: right;\">\n",
       "      <th></th>\n",
       "      <th>ride_id</th>\n",
       "      <th>rideable_type</th>\n",
       "      <th>started_at</th>\n",
       "      <th>ended_at</th>\n",
       "      <th>start_station_name</th>\n",
       "      <th>start_station_id</th>\n",
       "      <th>end_station_name</th>\n",
       "      <th>end_station_id</th>\n",
       "      <th>start_lat</th>\n",
       "      <th>start_lng</th>\n",
       "      <th>end_lat</th>\n",
       "      <th>end_lng</th>\n",
       "      <th>member_casual</th>\n",
       "      <th>trip_duration</th>\n",
       "      <th>day_of_week</th>\n",
       "      <th>distance</th>\n",
       "    </tr>\n",
       "  </thead>\n",
       "  <tbody>\n",
       "    <tr>\n",
       "      <th>0</th>\n",
       "      <td>EC2DE40644C6B0F4</td>\n",
       "      <td>classic_bike</td>\n",
       "      <td>2022-05-23 23:06:58</td>\n",
       "      <td>2022-05-23 23:40:19</td>\n",
       "      <td>Wabash Ave &amp; Grand Ave</td>\n",
       "      <td>TA1307000117</td>\n",
       "      <td>Halsted St &amp; Roscoe St</td>\n",
       "      <td>TA1309000025</td>\n",
       "      <td>0.731144</td>\n",
       "      <td>-1.529375</td>\n",
       "      <td>0.732055</td>\n",
       "      <td>-1.529763</td>\n",
       "      <td>member</td>\n",
       "      <td>0.555833</td>\n",
       "      <td>Monday</td>\n",
       "      <td>6.088235</td>\n",
       "    </tr>\n",
       "    <tr>\n",
       "      <th>1</th>\n",
       "      <td>1C31AD03897EE385</td>\n",
       "      <td>classic_bike</td>\n",
       "      <td>2022-05-11 08:53:28</td>\n",
       "      <td>2022-05-11 09:31:22</td>\n",
       "      <td>DuSable Lake Shore Dr &amp; Monroe St</td>\n",
       "      <td>13300</td>\n",
       "      <td>Field Blvd &amp; South Water St</td>\n",
       "      <td>15534</td>\n",
       "      <td>0.730961</td>\n",
       "      <td>-1.529201</td>\n",
       "      <td>0.731055</td>\n",
       "      <td>-1.529214</td>\n",
       "      <td>member</td>\n",
       "      <td>0.631667</td>\n",
       "      <td>Wednesday</td>\n",
       "      <td>0.602870</td>\n",
       "    </tr>\n",
       "    <tr>\n",
       "      <th>2</th>\n",
       "      <td>1542FBEC830415CF</td>\n",
       "      <td>classic_bike</td>\n",
       "      <td>2022-05-26 18:36:28</td>\n",
       "      <td>2022-05-26 18:58:18</td>\n",
       "      <td>Clinton St &amp; Madison St</td>\n",
       "      <td>TA1305000032</td>\n",
       "      <td>Wood St &amp; Milwaukee Ave</td>\n",
       "      <td>13221</td>\n",
       "      <td>0.730983</td>\n",
       "      <td>-1.529625</td>\n",
       "      <td>0.731427</td>\n",
       "      <td>-1.530175</td>\n",
       "      <td>member</td>\n",
       "      <td>0.363889</td>\n",
       "      <td>Thursday</td>\n",
       "      <td>3.844073</td>\n",
       "    </tr>\n",
       "    <tr>\n",
       "      <th>3</th>\n",
       "      <td>6FF59852924528F8</td>\n",
       "      <td>classic_bike</td>\n",
       "      <td>2022-05-10 07:30:07</td>\n",
       "      <td>2022-05-10 07:38:49</td>\n",
       "      <td>Clinton St &amp; Madison St</td>\n",
       "      <td>TA1305000032</td>\n",
       "      <td>Clark St &amp; Randolph St</td>\n",
       "      <td>TA1305000030</td>\n",
       "      <td>0.730983</td>\n",
       "      <td>-1.529625</td>\n",
       "      <td>0.731024</td>\n",
       "      <td>-1.529465</td>\n",
       "      <td>member</td>\n",
       "      <td>0.145000</td>\n",
       "      <td>Tuesday</td>\n",
       "      <td>0.802763</td>\n",
       "    </tr>\n",
       "    <tr>\n",
       "      <th>4</th>\n",
       "      <td>483C52CAAE12E3AC</td>\n",
       "      <td>classic_bike</td>\n",
       "      <td>2022-05-10 17:31:56</td>\n",
       "      <td>2022-05-10 17:36:57</td>\n",
       "      <td>Clinton St &amp; Madison St</td>\n",
       "      <td>TA1305000032</td>\n",
       "      <td>Morgan St &amp; Lake St</td>\n",
       "      <td>TA1306000015</td>\n",
       "      <td>0.730983</td>\n",
       "      <td>-1.529625</td>\n",
       "      <td>0.731045</td>\n",
       "      <td>-1.529799</td>\n",
       "      <td>member</td>\n",
       "      <td>0.083611</td>\n",
       "      <td>Tuesday</td>\n",
       "      <td>0.913438</td>\n",
       "    </tr>\n",
       "  </tbody>\n",
       "</table>\n",
       "</div>"
      ],
      "text/plain": [
       "            ride_id rideable_type          started_at            ended_at  \\\n",
       "0  EC2DE40644C6B0F4  classic_bike 2022-05-23 23:06:58 2022-05-23 23:40:19   \n",
       "1  1C31AD03897EE385  classic_bike 2022-05-11 08:53:28 2022-05-11 09:31:22   \n",
       "2  1542FBEC830415CF  classic_bike 2022-05-26 18:36:28 2022-05-26 18:58:18   \n",
       "3  6FF59852924528F8  classic_bike 2022-05-10 07:30:07 2022-05-10 07:38:49   \n",
       "4  483C52CAAE12E3AC  classic_bike 2022-05-10 17:31:56 2022-05-10 17:36:57   \n",
       "\n",
       "                  start_station_name start_station_id  \\\n",
       "0             Wabash Ave & Grand Ave     TA1307000117   \n",
       "1  DuSable Lake Shore Dr & Monroe St            13300   \n",
       "2            Clinton St & Madison St     TA1305000032   \n",
       "3            Clinton St & Madison St     TA1305000032   \n",
       "4            Clinton St & Madison St     TA1305000032   \n",
       "\n",
       "              end_station_name end_station_id  start_lat  start_lng   end_lat  \\\n",
       "0       Halsted St & Roscoe St   TA1309000025   0.731144  -1.529375  0.732055   \n",
       "1  Field Blvd & South Water St          15534   0.730961  -1.529201  0.731055   \n",
       "2      Wood St & Milwaukee Ave          13221   0.730983  -1.529625  0.731427   \n",
       "3       Clark St & Randolph St   TA1305000030   0.730983  -1.529625  0.731024   \n",
       "4          Morgan St & Lake St   TA1306000015   0.730983  -1.529625  0.731045   \n",
       "\n",
       "    end_lng member_casual  trip_duration day_of_week  distance  \n",
       "0 -1.529763        member       0.555833      Monday  6.088235  \n",
       "1 -1.529214        member       0.631667   Wednesday  0.602870  \n",
       "2 -1.530175        member       0.363889    Thursday  3.844073  \n",
       "3 -1.529465        member       0.145000     Tuesday  0.802763  \n",
       "4 -1.529799        member       0.083611     Tuesday  0.913438  "
      ]
     },
     "execution_count": 73,
     "metadata": {},
     "output_type": "execute_result"
    }
   ],
   "source": [
    "df.head()"
   ]
  },
  {
   "cell_type": "code",
   "execution_count": 74,
   "metadata": {},
   "outputs": [],
   "source": [
    "# delting the column start_lat, start_lng, end_lat, end_lng\n",
    "df = df.drop(['start_lat', 'start_lng', 'end_lat', 'end_lng'], axis=1)"
   ]
  },
  {
   "cell_type": "code",
   "execution_count": 75,
   "metadata": {},
   "outputs": [
    {
     "data": {
      "text/html": [
       "<div>\n",
       "<style scoped>\n",
       "    .dataframe tbody tr th:only-of-type {\n",
       "        vertical-align: middle;\n",
       "    }\n",
       "\n",
       "    .dataframe tbody tr th {\n",
       "        vertical-align: top;\n",
       "    }\n",
       "\n",
       "    .dataframe thead th {\n",
       "        text-align: right;\n",
       "    }\n",
       "</style>\n",
       "<table border=\"1\" class=\"dataframe\">\n",
       "  <thead>\n",
       "    <tr style=\"text-align: right;\">\n",
       "      <th></th>\n",
       "      <th>ride_id</th>\n",
       "      <th>rideable_type</th>\n",
       "      <th>started_at</th>\n",
       "      <th>ended_at</th>\n",
       "      <th>start_station_name</th>\n",
       "      <th>start_station_id</th>\n",
       "      <th>end_station_name</th>\n",
       "      <th>end_station_id</th>\n",
       "      <th>member_casual</th>\n",
       "      <th>trip_duration</th>\n",
       "      <th>day_of_week</th>\n",
       "      <th>distance</th>\n",
       "    </tr>\n",
       "  </thead>\n",
       "  <tbody>\n",
       "    <tr>\n",
       "      <th>0</th>\n",
       "      <td>EC2DE40644C6B0F4</td>\n",
       "      <td>classic_bike</td>\n",
       "      <td>2022-05-23 23:06:58</td>\n",
       "      <td>2022-05-23 23:40:19</td>\n",
       "      <td>Wabash Ave &amp; Grand Ave</td>\n",
       "      <td>TA1307000117</td>\n",
       "      <td>Halsted St &amp; Roscoe St</td>\n",
       "      <td>TA1309000025</td>\n",
       "      <td>member</td>\n",
       "      <td>0.555833</td>\n",
       "      <td>Monday</td>\n",
       "      <td>6.088235</td>\n",
       "    </tr>\n",
       "    <tr>\n",
       "      <th>1</th>\n",
       "      <td>1C31AD03897EE385</td>\n",
       "      <td>classic_bike</td>\n",
       "      <td>2022-05-11 08:53:28</td>\n",
       "      <td>2022-05-11 09:31:22</td>\n",
       "      <td>DuSable Lake Shore Dr &amp; Monroe St</td>\n",
       "      <td>13300</td>\n",
       "      <td>Field Blvd &amp; South Water St</td>\n",
       "      <td>15534</td>\n",
       "      <td>member</td>\n",
       "      <td>0.631667</td>\n",
       "      <td>Wednesday</td>\n",
       "      <td>0.602870</td>\n",
       "    </tr>\n",
       "    <tr>\n",
       "      <th>2</th>\n",
       "      <td>1542FBEC830415CF</td>\n",
       "      <td>classic_bike</td>\n",
       "      <td>2022-05-26 18:36:28</td>\n",
       "      <td>2022-05-26 18:58:18</td>\n",
       "      <td>Clinton St &amp; Madison St</td>\n",
       "      <td>TA1305000032</td>\n",
       "      <td>Wood St &amp; Milwaukee Ave</td>\n",
       "      <td>13221</td>\n",
       "      <td>member</td>\n",
       "      <td>0.363889</td>\n",
       "      <td>Thursday</td>\n",
       "      <td>3.844073</td>\n",
       "    </tr>\n",
       "    <tr>\n",
       "      <th>3</th>\n",
       "      <td>6FF59852924528F8</td>\n",
       "      <td>classic_bike</td>\n",
       "      <td>2022-05-10 07:30:07</td>\n",
       "      <td>2022-05-10 07:38:49</td>\n",
       "      <td>Clinton St &amp; Madison St</td>\n",
       "      <td>TA1305000032</td>\n",
       "      <td>Clark St &amp; Randolph St</td>\n",
       "      <td>TA1305000030</td>\n",
       "      <td>member</td>\n",
       "      <td>0.145000</td>\n",
       "      <td>Tuesday</td>\n",
       "      <td>0.802763</td>\n",
       "    </tr>\n",
       "    <tr>\n",
       "      <th>4</th>\n",
       "      <td>483C52CAAE12E3AC</td>\n",
       "      <td>classic_bike</td>\n",
       "      <td>2022-05-10 17:31:56</td>\n",
       "      <td>2022-05-10 17:36:57</td>\n",
       "      <td>Clinton St &amp; Madison St</td>\n",
       "      <td>TA1305000032</td>\n",
       "      <td>Morgan St &amp; Lake St</td>\n",
       "      <td>TA1306000015</td>\n",
       "      <td>member</td>\n",
       "      <td>0.083611</td>\n",
       "      <td>Tuesday</td>\n",
       "      <td>0.913438</td>\n",
       "    </tr>\n",
       "  </tbody>\n",
       "</table>\n",
       "</div>"
      ],
      "text/plain": [
       "            ride_id rideable_type          started_at            ended_at  \\\n",
       "0  EC2DE40644C6B0F4  classic_bike 2022-05-23 23:06:58 2022-05-23 23:40:19   \n",
       "1  1C31AD03897EE385  classic_bike 2022-05-11 08:53:28 2022-05-11 09:31:22   \n",
       "2  1542FBEC830415CF  classic_bike 2022-05-26 18:36:28 2022-05-26 18:58:18   \n",
       "3  6FF59852924528F8  classic_bike 2022-05-10 07:30:07 2022-05-10 07:38:49   \n",
       "4  483C52CAAE12E3AC  classic_bike 2022-05-10 17:31:56 2022-05-10 17:36:57   \n",
       "\n",
       "                  start_station_name start_station_id  \\\n",
       "0             Wabash Ave & Grand Ave     TA1307000117   \n",
       "1  DuSable Lake Shore Dr & Monroe St            13300   \n",
       "2            Clinton St & Madison St     TA1305000032   \n",
       "3            Clinton St & Madison St     TA1305000032   \n",
       "4            Clinton St & Madison St     TA1305000032   \n",
       "\n",
       "              end_station_name end_station_id member_casual  trip_duration  \\\n",
       "0       Halsted St & Roscoe St   TA1309000025        member       0.555833   \n",
       "1  Field Blvd & South Water St          15534        member       0.631667   \n",
       "2      Wood St & Milwaukee Ave          13221        member       0.363889   \n",
       "3       Clark St & Randolph St   TA1305000030        member       0.145000   \n",
       "4          Morgan St & Lake St   TA1306000015        member       0.083611   \n",
       "\n",
       "  day_of_week  distance  \n",
       "0      Monday  6.088235  \n",
       "1   Wednesday  0.602870  \n",
       "2    Thursday  3.844073  \n",
       "3     Tuesday  0.802763  \n",
       "4     Tuesday  0.913438  "
      ]
     },
     "execution_count": 75,
     "metadata": {},
     "output_type": "execute_result"
    }
   ],
   "source": [
    "df.head()"
   ]
  },
  {
   "cell_type": "code",
   "execution_count": 76,
   "metadata": {},
   "outputs": [],
   "source": [
    "# let's find out if we have more trips in morning, afternoon, evening or night.\n",
    "df['hour_of_day'] = df['started_at'].dt.hour"
   ]
  },
  {
   "cell_type": "code",
   "execution_count": 77,
   "metadata": {},
   "outputs": [
    {
     "data": {
      "text/plain": [
       "17    53165\n",
       "18    44457\n",
       "16    44436\n",
       "15    35081\n",
       "19    33385\n",
       "13    30827\n",
       "14    30738\n",
       "12    30306\n",
       "11    26061\n",
       "20    22940\n",
       "8     22006\n",
       "10    20740\n",
       "9     18140\n",
       "21    18140\n",
       "7     18134\n",
       "22    14655\n",
       "23    10182\n",
       "6      9535\n",
       "0      7128\n",
       "1      4024\n",
       "5      3508\n",
       "2      2435\n",
       "3      1382\n",
       "4      1140\n",
       "Name: hour_of_day, dtype: int64"
      ]
     },
     "execution_count": 77,
     "metadata": {},
     "output_type": "execute_result"
    }
   ],
   "source": [
    "df['hour_of_day'].value_counts()"
   ]
  },
  {
   "cell_type": "code",
   "execution_count": 84,
   "metadata": {},
   "outputs": [
    {
     "data": {
      "image/png": "[encoded data removed]",
      "text/plain": [
       "<Figure size 432x288 with 1 Axes>"
      ]
     },
     "metadata": {
      "needs_background": "light"
     },
     "output_type": "display_data"
    }
   ],
   "source": [
    "# let's plot the hour_of_day vs total trips\n",
    "df['hour_of_day'].value_counts().plot(kind='bar')\n",
    "plt.title('Hour of Day vs Total Trips')\n",
    "plt.legend(loc='upper right')\n",
    "# adding grid\n",
    "plt.grid(True)\n",
    "plt.xlabel('Hour of Day')\n",
    "plt.show()"
   ]
  },
  {
   "cell_type": "code",
   "execution_count": 85,
   "metadata": {},
   "outputs": [],
   "source": [
    "# it seems that there are most trips in the evening at around 4pm to 6pm"
   ]
  },
  {
   "cell_type": "code",
   "execution_count": 87,
   "metadata": {},
   "outputs": [
    {
     "data": {
      "text/plain": [
       "classic_bike     323601\n",
       "electric_bike    152824\n",
       "docked_bike       26120\n",
       "Name: rideable_type, dtype: int64"
      ]
     },
     "execution_count": 87,
     "metadata": {},
     "output_type": "execute_result"
    }
   ],
   "source": [
    "\n",
    "df['rideable_type'].value_counts()\n"
   ]
  },
  {
   "cell_type": "code",
   "execution_count": 89,
   "metadata": {},
   "outputs": [
    {
     "data": {
      "image/png": "[encoded data removed]",
      "text/plain": [
       "<Figure size 432x288 with 1 Axes>"
      ]
     },
     "metadata": {
      "needs_background": "light"
     },
     "output_type": "display_data"
    }
   ],
   "source": [
    "\n",
    "df['rideable_type'].value_counts().plot(kind='bar')\n",
    "plt.title('Rideable Type vs Total Trips')\n",
    "plt.legend(loc='upper right')\n",
    "plt.grid(True)\n",
    "plt.xlabel('Rideable Type')\n",
    "plt.show()\n",
    "\n"
   ]
  },
  {
   "cell_type": "code",
   "execution_count": 94,
   "metadata": {},
   "outputs": [
    {
     "data": {
      "text/plain": [
       "Text(0.5, 1.0, 'Classic Bike vs type of users')"
      ]
     },
     "execution_count": 94,
     "metadata": {},
     "output_type": "execute_result"
    },
    {
     "data": {
      "image/png": "[encoded data removed]",
      "text/plain": [
       "<Figure size 432x288 with 1 Axes>"
      ]
     },
     "metadata": {
      "needs_background": "light"
     },
     "output_type": "display_data"
    }
   ],
   "source": [
    "# how many members and casual riders use classic bikes\n",
    "df[df['rideable_type'] == 'classic_bike']['member_casual'].value_counts()\n",
    "#plotting a chart\n",
    "df[df['rideable_type'] == 'classic_bike']['member_casual'].value_counts().plot(kind='bar')\n",
    "plt.title('Classic Bike vs type of users')"
   ]
  },
  {
   "cell_type": "code",
   "execution_count": 95,
   "metadata": {},
   "outputs": [
    {
     "data": {
      "text/plain": [
       "Text(0.5, 1.0, 'Electric Bike vs type of users')"
      ]
     },
     "execution_count": 95,
     "metadata": {},
     "output_type": "execute_result"
    },
    {
     "data": {
      "image/png": "[encoded data removed]",
      "text/plain": [
       "<Figure size 432x288 with 1 Axes>"
      ]
     },
     "metadata": {
      "needs_background": "light"
     },
     "output_type": "display_data"
    }
   ],
   "source": [
    "# let's find out how many members and casual riders use electric bikes\n",
    "df[df['rideable_type'] == 'electric_bike']['member_casual'].value_counts()\n",
    "#plotting a chart\n",
    "df[df['rideable_type'] == 'electric_bike']['member_casual'].value_counts().plot(kind='bar')\n",
    "plt.title('Electric Bike vs type of users')\n"
   ]
  },
  {
   "cell_type": "code",
   "execution_count": 98,
   "metadata": {},
   "outputs": [
    {
     "data": {
      "text/plain": [
       "<matplotlib.legend.Legend at 0x283820920b0>"
      ]
     },
     "execution_count": 98,
     "metadata": {},
     "output_type": "execute_result"
    },
    {
     "data": {
      "image/png": "[encoded data removed]",
      "text/plain": [
       "<Figure size 432x288 with 1 Axes>"
      ]
     },
     "metadata": {
      "needs_background": "light"
     },
     "output_type": "display_data"
    }
   ],
   "source": [
    "# let's find out how many members and casual riders use hybrid bikes\n",
    "df[df['rideable_type'] == 'docked_bike']['member_casual'].value_counts()\n",
    "#plotting a chart\n",
    "df[df['rideable_type'] == 'docked_bike']['member_casual'].value_counts().plot(kind='bar')\n",
    "plt.title('Docked Bike vs type of users')\n",
    "plt.legend(loc='upper right')\n"
   ]
  },
  {
   "cell_type": "code",
   "execution_count": 99,
   "metadata": {},
   "outputs": [],
   "source": [
    "# only casual drivers use docked bikes"
   ]
  },
  {
   "cell_type": "code",
   "execution_count": 100,
   "metadata": {},
   "outputs": [
    {
     "data": {
      "text/html": [
       "<div>\n",
       "<style scoped>\n",
       "    .dataframe tbody tr th:only-of-type {\n",
       "        vertical-align: middle;\n",
       "    }\n",
       "\n",
       "    .dataframe tbody tr th {\n",
       "        vertical-align: top;\n",
       "    }\n",
       "\n",
       "    .dataframe thead th {\n",
       "        text-align: right;\n",
       "    }\n",
       "</style>\n",
       "<table border=\"1\" class=\"dataframe\">\n",
       "  <thead>\n",
       "    <tr style=\"text-align: right;\">\n",
       "      <th></th>\n",
       "      <th>ride_id</th>\n",
       "      <th>rideable_type</th>\n",
       "      <th>started_at</th>\n",
       "      <th>ended_at</th>\n",
       "      <th>start_station_name</th>\n",
       "      <th>start_station_id</th>\n",
       "      <th>end_station_name</th>\n",
       "      <th>end_station_id</th>\n",
       "      <th>member_casual</th>\n",
       "      <th>trip_duration</th>\n",
       "      <th>day_of_week</th>\n",
       "      <th>distance</th>\n",
       "      <th>hour_of_day</th>\n",
       "    </tr>\n",
       "  </thead>\n",
       "  <tbody>\n",
       "    <tr>\n",
       "      <th>7</th>\n",
       "      <td>377BE1F5F0E399CA</td>\n",
       "      <td>docked_bike</td>\n",
       "      <td>2022-05-29 19:19:24</td>\n",
       "      <td>2022-05-29 19:31:34</td>\n",
       "      <td>Halsted St &amp; Wrightwood Ave</td>\n",
       "      <td>TA1309000061</td>\n",
       "      <td>Southport Ave &amp; Clybourn Ave</td>\n",
       "      <td>TA1309000030</td>\n",
       "      <td>casual</td>\n",
       "      <td>0.202778</td>\n",
       "      <td>Sunday</td>\n",
       "      <td>1.527282</td>\n",
       "      <td>19</td>\n",
       "    </tr>\n",
       "    <tr>\n",
       "      <th>28</th>\n",
       "      <td>84676EDD2699ABF5</td>\n",
       "      <td>docked_bike</td>\n",
       "      <td>2022-05-14 13:53:16</td>\n",
       "      <td>2022-05-14 17:30:55</td>\n",
       "      <td>Ellis Ave &amp; 53rd St</td>\n",
       "      <td>KA1503000052</td>\n",
       "      <td>Ellis Ave &amp; 53rd St</td>\n",
       "      <td>KA1503000052</td>\n",
       "      <td>casual</td>\n",
       "      <td>3.627500</td>\n",
       "      <td>Saturday</td>\n",
       "      <td>0.000000</td>\n",
       "      <td>13</td>\n",
       "    </tr>\n",
       "    <tr>\n",
       "      <th>44</th>\n",
       "      <td>CD303C87F4939429</td>\n",
       "      <td>classic_bike</td>\n",
       "      <td>2022-05-31 09:45:45</td>\n",
       "      <td>2022-05-31 09:53:40</td>\n",
       "      <td>Clark St &amp; Newport St</td>\n",
       "      <td>632</td>\n",
       "      <td>Racine Ave &amp; Wrightwood Ave</td>\n",
       "      <td>TA1309000059</td>\n",
       "      <td>casual</td>\n",
       "      <td>0.131944</td>\n",
       "      <td>Tuesday</td>\n",
       "      <td>1.776388</td>\n",
       "      <td>9</td>\n",
       "    </tr>\n",
       "    <tr>\n",
       "      <th>65</th>\n",
       "      <td>A373F319A922F3EA</td>\n",
       "      <td>classic_bike</td>\n",
       "      <td>2022-05-22 12:14:35</td>\n",
       "      <td>2022-05-22 12:44:28</td>\n",
       "      <td>Sedgwick St &amp; North Ave</td>\n",
       "      <td>TA1307000038</td>\n",
       "      <td>Wood St &amp; Milwaukee Ave</td>\n",
       "      <td>13221</td>\n",
       "      <td>casual</td>\n",
       "      <td>0.498056</td>\n",
       "      <td>Sunday</td>\n",
       "      <td>2.833735</td>\n",
       "      <td>12</td>\n",
       "    </tr>\n",
       "    <tr>\n",
       "      <th>67</th>\n",
       "      <td>8B11C996325D5251</td>\n",
       "      <td>electric_bike</td>\n",
       "      <td>2022-05-13 10:26:26</td>\n",
       "      <td>2022-05-13 10:32:14</td>\n",
       "      <td>Canal St &amp; Jackson Blvd</td>\n",
       "      <td>13138</td>\n",
       "      <td>Canal St &amp; Taylor St</td>\n",
       "      <td>15550</td>\n",
       "      <td>casual</td>\n",
       "      <td>0.096667</td>\n",
       "      <td>Friday</td>\n",
       "      <td>0.790103</td>\n",
       "      <td>10</td>\n",
       "    </tr>\n",
       "    <tr>\n",
       "      <th>...</th>\n",
       "      <td>...</td>\n",
       "      <td>...</td>\n",
       "      <td>...</td>\n",
       "      <td>...</td>\n",
       "      <td>...</td>\n",
       "      <td>...</td>\n",
       "      <td>...</td>\n",
       "      <td>...</td>\n",
       "      <td>...</td>\n",
       "      <td>...</td>\n",
       "      <td>...</td>\n",
       "      <td>...</td>\n",
       "      <td>...</td>\n",
       "    </tr>\n",
       "    <tr>\n",
       "      <th>631959</th>\n",
       "      <td>32AB4F449B4F8184</td>\n",
       "      <td>electric_bike</td>\n",
       "      <td>2022-05-30 21:53:35</td>\n",
       "      <td>2022-05-30 22:12:04</td>\n",
       "      <td>Orange &amp; Addison</td>\n",
       "      <td>320</td>\n",
       "      <td>Orange &amp; Addison</td>\n",
       "      <td>320</td>\n",
       "      <td>casual</td>\n",
       "      <td>0.308056</td>\n",
       "      <td>Monday</td>\n",
       "      <td>0.000000</td>\n",
       "      <td>21</td>\n",
       "    </tr>\n",
       "    <tr>\n",
       "      <th>632073</th>\n",
       "      <td>CFA628793A8E1A43</td>\n",
       "      <td>electric_bike</td>\n",
       "      <td>2022-05-11 09:18:40</td>\n",
       "      <td>2022-05-11 09:46:51</td>\n",
       "      <td>Orange &amp; Addison</td>\n",
       "      <td>320</td>\n",
       "      <td>Orange &amp; Addison</td>\n",
       "      <td>320</td>\n",
       "      <td>casual</td>\n",
       "      <td>0.469722</td>\n",
       "      <td>Wednesday</td>\n",
       "      <td>0.000000</td>\n",
       "      <td>9</td>\n",
       "    </tr>\n",
       "    <tr>\n",
       "      <th>632084</th>\n",
       "      <td>317758B0C5D6432D</td>\n",
       "      <td>electric_bike</td>\n",
       "      <td>2022-05-11 17:59:42</td>\n",
       "      <td>2022-05-11 18:06:10</td>\n",
       "      <td>California Ave &amp; Division St</td>\n",
       "      <td>13256</td>\n",
       "      <td>California Ave &amp; Milwaukee Ave</td>\n",
       "      <td>13084</td>\n",
       "      <td>casual</td>\n",
       "      <td>0.107778</td>\n",
       "      <td>Wednesday</td>\n",
       "      <td>2.187681</td>\n",
       "      <td>17</td>\n",
       "    </tr>\n",
       "    <tr>\n",
       "      <th>633270</th>\n",
       "      <td>2751A20F087A39B5</td>\n",
       "      <td>docked_bike</td>\n",
       "      <td>2022-05-16 10:44:42</td>\n",
       "      <td>2022-05-16 14:48:47</td>\n",
       "      <td>Campbell Ave &amp; Montrose Ave</td>\n",
       "      <td>15623</td>\n",
       "      <td>Campbell Ave &amp; Montrose Ave</td>\n",
       "      <td>15623</td>\n",
       "      <td>casual</td>\n",
       "      <td>4.068056</td>\n",
       "      <td>Monday</td>\n",
       "      <td>0.000000</td>\n",
       "      <td>10</td>\n",
       "    </tr>\n",
       "    <tr>\n",
       "      <th>634001</th>\n",
       "      <td>3E1663D37D8AB75A</td>\n",
       "      <td>classic_bike</td>\n",
       "      <td>2022-05-08 13:28:53</td>\n",
       "      <td>2022-05-08 14:35:23</td>\n",
       "      <td>California Ave &amp; Division St</td>\n",
       "      <td>13256</td>\n",
       "      <td>Wood St &amp; Chicago Ave</td>\n",
       "      <td>637</td>\n",
       "      <td>casual</td>\n",
       "      <td>1.108333</td>\n",
       "      <td>Sunday</td>\n",
       "      <td>2.257702</td>\n",
       "      <td>13</td>\n",
       "    </tr>\n",
       "  </tbody>\n",
       "</table>\n",
       "<p>220246 rows × 13 columns</p>\n",
       "</div>"
      ],
      "text/plain": [
       "                 ride_id  rideable_type          started_at  \\\n",
       "7       377BE1F5F0E399CA    docked_bike 2022-05-29 19:19:24   \n",
       "28      84676EDD2699ABF5    docked_bike 2022-05-14 13:53:16   \n",
       "44      CD303C87F4939429   classic_bike 2022-05-31 09:45:45   \n",
       "65      A373F319A922F3EA   classic_bike 2022-05-22 12:14:35   \n",
       "67      8B11C996325D5251  electric_bike 2022-05-13 10:26:26   \n",
       "...                  ...            ...                 ...   \n",
       "631959  32AB4F449B4F8184  electric_bike 2022-05-30 21:53:35   \n",
       "632073  CFA628793A8E1A43  electric_bike 2022-05-11 09:18:40   \n",
       "632084  317758B0C5D6432D  electric_bike 2022-05-11 17:59:42   \n",
       "633270  2751A20F087A39B5    docked_bike 2022-05-16 10:44:42   \n",
       "634001  3E1663D37D8AB75A   classic_bike 2022-05-08 13:28:53   \n",
       "\n",
       "                  ended_at            start_station_name start_station_id  \\\n",
       "7      2022-05-29 19:31:34   Halsted St & Wrightwood Ave     TA1309000061   \n",
       "28     2022-05-14 17:30:55           Ellis Ave & 53rd St     KA1503000052   \n",
       "44     2022-05-31 09:53:40         Clark St & Newport St              632   \n",
       "65     2022-05-22 12:44:28       Sedgwick St & North Ave     TA1307000038   \n",
       "67     2022-05-13 10:32:14       Canal St & Jackson Blvd            13138   \n",
       "...                    ...                           ...              ...   \n",
       "631959 2022-05-30 22:12:04              Orange & Addison              320   \n",
       "632073 2022-05-11 09:46:51              Orange & Addison              320   \n",
       "632084 2022-05-11 18:06:10  California Ave & Division St            13256   \n",
       "633270 2022-05-16 14:48:47   Campbell Ave & Montrose Ave            15623   \n",
       "634001 2022-05-08 14:35:23  California Ave & Division St            13256   \n",
       "\n",
       "                      end_station_name end_station_id member_casual  \\\n",
       "7         Southport Ave & Clybourn Ave   TA1309000030        casual   \n",
       "28                 Ellis Ave & 53rd St   KA1503000052        casual   \n",
       "44         Racine Ave & Wrightwood Ave   TA1309000059        casual   \n",
       "65             Wood St & Milwaukee Ave          13221        casual   \n",
       "67                Canal St & Taylor St          15550        casual   \n",
       "...                                ...            ...           ...   \n",
       "631959                Orange & Addison            320        casual   \n",
       "632073                Orange & Addison            320        casual   \n",
       "632084  California Ave & Milwaukee Ave          13084        casual   \n",
       "633270     Campbell Ave & Montrose Ave          15623        casual   \n",
       "634001           Wood St & Chicago Ave            637        casual   \n",
       "\n",
       "        trip_duration day_of_week  distance  hour_of_day  \n",
       "7            0.202778      Sunday  1.527282           19  \n",
       "28           3.627500    Saturday  0.000000           13  \n",
       "44           0.131944     Tuesday  1.776388            9  \n",
       "65           0.498056      Sunday  2.833735           12  \n",
       "67           0.096667      Friday  0.790103           10  \n",
       "...               ...         ...       ...          ...  \n",
       "631959       0.308056      Monday  0.000000           21  \n",
       "632073       0.469722   Wednesday  0.000000            9  \n",
       "632084       0.107778   Wednesday  2.187681           17  \n",
       "633270       4.068056      Monday  0.000000           10  \n",
       "634001       1.108333      Sunday  2.257702           13  \n",
       "\n",
       "[220246 rows x 13 columns]"
      ]
     },
     "execution_count": 100,
     "metadata": {},
     "output_type": "execute_result"
    }
   ],
   "source": [
    "df[df['member_casual'] == 'casual']\n",
    "\n"
   ]
  },
  {
   "cell_type": "code",
   "execution_count": 107,
   "metadata": {},
   "outputs": [],
   "source": [
    "# let's see which starting station has most numbers of casual riders\n",
    "station_with_most_casual_riders = df[df['member_casual'] == 'casual']['start_station_name'].value_counts()\n"
   ]
  },
  {
   "cell_type": "code",
   "execution_count": 108,
   "metadata": {},
   "outputs": [],
   "source": [
    "# for members\n",
    "station_with_member_riders = df[df['member_casual'] == 'member']['start_station_name'].value_counts()"
   ]
  },
  {
   "cell_type": "code",
   "execution_count": 111,
   "metadata": {},
   "outputs": [
    {
     "data": {
      "text/plain": [
       "Streeter Dr & Grand Ave                   9470\n",
       "DuSable Lake Shore Dr & Monroe St         5487\n",
       "Michigan Ave & Oak St                     5165\n",
       "DuSable Lake Shore Dr & North Blvd        5012\n",
       "Theater on the Lake                       4301\n",
       "                                          ... \n",
       "Yates Blvd & 93rd St                         1\n",
       "Harding Ave & 47th St                        1\n",
       "Linder Ave & Belmont Ave                     1\n",
       "Yates Blvd & Exchange Ave                    1\n",
       "Ashland Ave & 45th St - midblock south       1\n",
       "Name: start_station_name, Length: 1024, dtype: int64"
      ]
     },
     "execution_count": 111,
     "metadata": {},
     "output_type": "execute_result"
    }
   ],
   "source": [
    "# let's see which starting station has most numbers of members\n",
    "station_with_most_riders = df['start_station_name'].value_counts()\n",
    "station_with_most_riders"
   ]
  },
  {
   "cell_type": "code",
   "execution_count": 112,
   "metadata": {},
   "outputs": [
    {
     "data": {
      "text/plain": [
       "Streeter Dr & Grand Ave               7473\n",
       "DuSable Lake Shore Dr & Monroe St     4261\n",
       "Michigan Ave & Oak St                 3397\n",
       "Millennium Park                       3199\n",
       "DuSable Lake Shore Dr & North Blvd    3061\n",
       "                                      ... \n",
       "Talman Ave & 51st St - midblock          1\n",
       "Kimbark Ave & 63rd St                    1\n",
       "Michigan Ave & 110th St                  1\n",
       "Narragansett Ave & Fullerton Ave         1\n",
       "Avondale Ave & Addison St                1\n",
       "Name: start_station_name, Length: 972, dtype: int64"
      ]
     },
     "execution_count": 112,
     "metadata": {},
     "output_type": "execute_result"
    }
   ],
   "source": [
    "station_with_most_casual_riders"
   ]
  },
  {
   "cell_type": "code",
   "execution_count": 113,
   "metadata": {},
   "outputs": [],
   "source": [
    "# we can target the stations with most casual riders\n"
   ]
  },
  {
   "cell_type": "code",
   "execution_count": 117,
   "metadata": {},
   "outputs": [
    {
     "data": {
      "image/png": "[encoded data removed]",
      "text/plain": [
       "<Figure size 432x288 with 1 Axes>"
      ]
     },
     "metadata": {
      "needs_background": "light"
     },
     "output_type": "display_data"
    }
   ],
   "source": [
    "# let's find at what time of day the most casual riders are using the bikes\n",
    "df[df['member_casual'] == 'casual']['hour_of_day'].value_counts()\n",
    "# plotting a chart\n",
    "df[df['member_casual'] == 'casual']['hour_of_day'].value_counts().plot(kind='bar')\n",
    "plt.title('Hour of Day vs Casual riders')\n",
    "plt.legend(loc='upper right')\n",
    "plt.grid(True)\n",
    "plt.xlabel('Hour of Day')\n",
    "plt.show()"
   ]
  },
  {
   "cell_type": "code",
   "execution_count": 115,
   "metadata": {},
   "outputs": [],
   "source": [
    "# hence we can target the casual members at evening in top stations"
   ]
  },
  {
   "cell_type": "code",
   "execution_count": 118,
   "metadata": {},
   "outputs": [
    {
     "data": {
      "text/html": [
       "<div>\n",
       "<style scoped>\n",
       "    .dataframe tbody tr th:only-of-type {\n",
       "        vertical-align: middle;\n",
       "    }\n",
       "\n",
       "    .dataframe tbody tr th {\n",
       "        vertical-align: top;\n",
       "    }\n",
       "\n",
       "    .dataframe thead th {\n",
       "        text-align: right;\n",
       "    }\n",
       "</style>\n",
       "<table border=\"1\" class=\"dataframe\">\n",
       "  <thead>\n",
       "    <tr style=\"text-align: right;\">\n",
       "      <th></th>\n",
       "      <th>ride_id</th>\n",
       "      <th>rideable_type</th>\n",
       "      <th>started_at</th>\n",
       "      <th>ended_at</th>\n",
       "      <th>start_station_name</th>\n",
       "      <th>start_station_id</th>\n",
       "      <th>end_station_name</th>\n",
       "      <th>end_station_id</th>\n",
       "      <th>member_casual</th>\n",
       "      <th>trip_duration</th>\n",
       "      <th>day_of_week</th>\n",
       "      <th>distance</th>\n",
       "      <th>hour_of_day</th>\n",
       "    </tr>\n",
       "  </thead>\n",
       "  <tbody>\n",
       "    <tr>\n",
       "      <th>0</th>\n",
       "      <td>EC2DE40644C6B0F4</td>\n",
       "      <td>classic_bike</td>\n",
       "      <td>2022-05-23 23:06:58</td>\n",
       "      <td>2022-05-23 23:40:19</td>\n",
       "      <td>Wabash Ave &amp; Grand Ave</td>\n",
       "      <td>TA1307000117</td>\n",
       "      <td>Halsted St &amp; Roscoe St</td>\n",
       "      <td>TA1309000025</td>\n",
       "      <td>member</td>\n",
       "      <td>0.555833</td>\n",
       "      <td>Monday</td>\n",
       "      <td>6.088235</td>\n",
       "      <td>23</td>\n",
       "    </tr>\n",
       "    <tr>\n",
       "      <th>1</th>\n",
       "      <td>1C31AD03897EE385</td>\n",
       "      <td>classic_bike</td>\n",
       "      <td>2022-05-11 08:53:28</td>\n",
       "      <td>2022-05-11 09:31:22</td>\n",
       "      <td>DuSable Lake Shore Dr &amp; Monroe St</td>\n",
       "      <td>13300</td>\n",
       "      <td>Field Blvd &amp; South Water St</td>\n",
       "      <td>15534</td>\n",
       "      <td>member</td>\n",
       "      <td>0.631667</td>\n",
       "      <td>Wednesday</td>\n",
       "      <td>0.602870</td>\n",
       "      <td>8</td>\n",
       "    </tr>\n",
       "    <tr>\n",
       "      <th>2</th>\n",
       "      <td>1542FBEC830415CF</td>\n",
       "      <td>classic_bike</td>\n",
       "      <td>2022-05-26 18:36:28</td>\n",
       "      <td>2022-05-26 18:58:18</td>\n",
       "      <td>Clinton St &amp; Madison St</td>\n",
       "      <td>TA1305000032</td>\n",
       "      <td>Wood St &amp; Milwaukee Ave</td>\n",
       "      <td>13221</td>\n",
       "      <td>member</td>\n",
       "      <td>0.363889</td>\n",
       "      <td>Thursday</td>\n",
       "      <td>3.844073</td>\n",
       "      <td>18</td>\n",
       "    </tr>\n",
       "    <tr>\n",
       "      <th>3</th>\n",
       "      <td>6FF59852924528F8</td>\n",
       "      <td>classic_bike</td>\n",
       "      <td>2022-05-10 07:30:07</td>\n",
       "      <td>2022-05-10 07:38:49</td>\n",
       "      <td>Clinton St &amp; Madison St</td>\n",
       "      <td>TA1305000032</td>\n",
       "      <td>Clark St &amp; Randolph St</td>\n",
       "      <td>TA1305000030</td>\n",
       "      <td>member</td>\n",
       "      <td>0.145000</td>\n",
       "      <td>Tuesday</td>\n",
       "      <td>0.802763</td>\n",
       "      <td>7</td>\n",
       "    </tr>\n",
       "    <tr>\n",
       "      <th>4</th>\n",
       "      <td>483C52CAAE12E3AC</td>\n",
       "      <td>classic_bike</td>\n",
       "      <td>2022-05-10 17:31:56</td>\n",
       "      <td>2022-05-10 17:36:57</td>\n",
       "      <td>Clinton St &amp; Madison St</td>\n",
       "      <td>TA1305000032</td>\n",
       "      <td>Morgan St &amp; Lake St</td>\n",
       "      <td>TA1306000015</td>\n",
       "      <td>member</td>\n",
       "      <td>0.083611</td>\n",
       "      <td>Tuesday</td>\n",
       "      <td>0.913438</td>\n",
       "      <td>17</td>\n",
       "    </tr>\n",
       "  </tbody>\n",
       "</table>\n",
       "</div>"
      ],
      "text/plain": [
       "            ride_id rideable_type          started_at            ended_at  \\\n",
       "0  EC2DE40644C6B0F4  classic_bike 2022-05-23 23:06:58 2022-05-23 23:40:19   \n",
       "1  1C31AD03897EE385  classic_bike 2022-05-11 08:53:28 2022-05-11 09:31:22   \n",
       "2  1542FBEC830415CF  classic_bike 2022-05-26 18:36:28 2022-05-26 18:58:18   \n",
       "3  6FF59852924528F8  classic_bike 2022-05-10 07:30:07 2022-05-10 07:38:49   \n",
       "4  483C52CAAE12E3AC  classic_bike 2022-05-10 17:31:56 2022-05-10 17:36:57   \n",
       "\n",
       "                  start_station_name start_station_id  \\\n",
       "0             Wabash Ave & Grand Ave     TA1307000117   \n",
       "1  DuSable Lake Shore Dr & Monroe St            13300   \n",
       "2            Clinton St & Madison St     TA1305000032   \n",
       "3            Clinton St & Madison St     TA1305000032   \n",
       "4            Clinton St & Madison St     TA1305000032   \n",
       "\n",
       "              end_station_name end_station_id member_casual  trip_duration  \\\n",
       "0       Halsted St & Roscoe St   TA1309000025        member       0.555833   \n",
       "1  Field Blvd & South Water St          15534        member       0.631667   \n",
       "2      Wood St & Milwaukee Ave          13221        member       0.363889   \n",
       "3       Clark St & Randolph St   TA1305000030        member       0.145000   \n",
       "4          Morgan St & Lake St   TA1306000015        member       0.083611   \n",
       "\n",
       "  day_of_week  distance  hour_of_day  \n",
       "0      Monday  6.088235           23  \n",
       "1   Wednesday  0.602870            8  \n",
       "2    Thursday  3.844073           18  \n",
       "3     Tuesday  0.802763            7  \n",
       "4     Tuesday  0.913438           17  "
      ]
     },
     "execution_count": 118,
     "metadata": {},
     "output_type": "execute_result"
    }
   ],
   "source": [
    "df.head()"
   ]
  },
  {
   "cell_type": "code",
   "execution_count": 125,
   "metadata": {},
   "outputs": [
    {
     "data": {
      "text/html": [
       "<div>\n",
       "<style scoped>\n",
       "    .dataframe tbody tr th:only-of-type {\n",
       "        vertical-align: middle;\n",
       "    }\n",
       "\n",
       "    .dataframe tbody tr th {\n",
       "        vertical-align: top;\n",
       "    }\n",
       "\n",
       "    .dataframe thead th {\n",
       "        text-align: right;\n",
       "    }\n",
       "</style>\n",
       "<table border=\"1\" class=\"dataframe\">\n",
       "  <thead>\n",
       "    <tr style=\"text-align: right;\">\n",
       "      <th></th>\n",
       "      <th>start_station_name</th>\n",
       "      <th>end_station_name</th>\n",
       "      <th>Number of Trips</th>\n",
       "    </tr>\n",
       "  </thead>\n",
       "  <tbody>\n",
       "    <tr>\n",
       "      <th>0</th>\n",
       "      <td>111th St - Morgan Park Metra</td>\n",
       "      <td>Walden Pkwy &amp; 103rd St</td>\n",
       "      <td>1</td>\n",
       "    </tr>\n",
       "    <tr>\n",
       "      <th>1</th>\n",
       "      <td>2112 W Peterson Ave</td>\n",
       "      <td>2112 W Peterson Ave</td>\n",
       "      <td>11</td>\n",
       "    </tr>\n",
       "    <tr>\n",
       "      <th>2</th>\n",
       "      <td>2112 W Peterson Ave</td>\n",
       "      <td>Ashland Ave &amp; Wellington Ave</td>\n",
       "      <td>2</td>\n",
       "    </tr>\n",
       "    <tr>\n",
       "      <th>3</th>\n",
       "      <td>2112 W Peterson Ave</td>\n",
       "      <td>Broadway &amp; Argyle St</td>\n",
       "      <td>3</td>\n",
       "    </tr>\n",
       "    <tr>\n",
       "      <th>4</th>\n",
       "      <td>2112 W Peterson Ave</td>\n",
       "      <td>Broadway &amp; Berwyn Ave</td>\n",
       "      <td>4</td>\n",
       "    </tr>\n",
       "    <tr>\n",
       "      <th>...</th>\n",
       "      <td>...</td>\n",
       "      <td>...</td>\n",
       "      <td>...</td>\n",
       "    </tr>\n",
       "    <tr>\n",
       "      <th>79275</th>\n",
       "      <td>Yates Blvd &amp; 75th St</td>\n",
       "      <td>Wentworth Ave &amp; 35th St</td>\n",
       "      <td>2</td>\n",
       "    </tr>\n",
       "    <tr>\n",
       "      <th>79276</th>\n",
       "      <td>Yates Blvd &amp; 75th St</td>\n",
       "      <td>Yates Blvd &amp; 75th St</td>\n",
       "      <td>6</td>\n",
       "    </tr>\n",
       "    <tr>\n",
       "      <th>79277</th>\n",
       "      <td>Yates Blvd &amp; 93rd St</td>\n",
       "      <td>Clyde Ave &amp; 87th St</td>\n",
       "      <td>1</td>\n",
       "    </tr>\n",
       "    <tr>\n",
       "      <th>79278</th>\n",
       "      <td>Yates Blvd &amp; Exchange Ave</td>\n",
       "      <td>Harper Ave &amp; 59th St</td>\n",
       "      <td>1</td>\n",
       "    </tr>\n",
       "    <tr>\n",
       "      <th>79279</th>\n",
       "      <td>Zapata Academy</td>\n",
       "      <td>California Ave &amp; 21st St</td>\n",
       "      <td>1</td>\n",
       "    </tr>\n",
       "  </tbody>\n",
       "</table>\n",
       "<p>79280 rows × 3 columns</p>\n",
       "</div>"
      ],
      "text/plain": [
       "                 start_station_name              end_station_name  \\\n",
       "0      111th St - Morgan Park Metra        Walden Pkwy & 103rd St   \n",
       "1               2112 W Peterson Ave           2112 W Peterson Ave   \n",
       "2               2112 W Peterson Ave  Ashland Ave & Wellington Ave   \n",
       "3               2112 W Peterson Ave          Broadway & Argyle St   \n",
       "4               2112 W Peterson Ave         Broadway & Berwyn Ave   \n",
       "...                             ...                           ...   \n",
       "79275          Yates Blvd & 75th St       Wentworth Ave & 35th St   \n",
       "79276          Yates Blvd & 75th St          Yates Blvd & 75th St   \n",
       "79277          Yates Blvd & 93rd St           Clyde Ave & 87th St   \n",
       "79278     Yates Blvd & Exchange Ave          Harper Ave & 59th St   \n",
       "79279                Zapata Academy      California Ave & 21st St   \n",
       "\n",
       "       Number of Trips  \n",
       "0                    1  \n",
       "1                   11  \n",
       "2                    2  \n",
       "3                    3  \n",
       "4                    4  \n",
       "...                ...  \n",
       "79275                2  \n",
       "79276                6  \n",
       "79277                1  \n",
       "79278                1  \n",
       "79279                1  \n",
       "\n",
       "[79280 rows x 3 columns]"
      ]
     },
     "execution_count": 125,
     "metadata": {},
     "output_type": "execute_result"
    }
   ],
   "source": [
    "trips_df = df.groupby(['start_station_name','end_station_name']).size().reset_index(name = 'Number of Trips')\n",
    "trips_df"
   ]
  },
  {
   "cell_type": "code",
   "execution_count": 130,
   "metadata": {},
   "outputs": [
    {
     "data": {
      "text/html": [
       "<div>\n",
       "<style scoped>\n",
       "    .dataframe tbody tr th:only-of-type {\n",
       "        vertical-align: middle;\n",
       "    }\n",
       "\n",
       "    .dataframe tbody tr th {\n",
       "        vertical-align: top;\n",
       "    }\n",
       "\n",
       "    .dataframe thead th {\n",
       "        text-align: right;\n",
       "    }\n",
       "</style>\n",
       "<table border=\"1\" class=\"dataframe\">\n",
       "  <thead>\n",
       "    <tr style=\"text-align: right;\">\n",
       "      <th></th>\n",
       "      <th>start_station_name</th>\n",
       "      <th>end_station_name</th>\n",
       "      <th>Number of Trips</th>\n",
       "    </tr>\n",
       "  </thead>\n",
       "  <tbody>\n",
       "    <tr>\n",
       "      <th>46593</th>\n",
       "      <td>Streeter Dr &amp; Grand Ave</td>\n",
       "      <td>Streeter Dr &amp; Grand Ave</td>\n",
       "      <td>1546</td>\n",
       "    </tr>\n",
       "    <tr>\n",
       "      <th>17457</th>\n",
       "      <td>DuSable Lake Shore Dr &amp; Monroe St</td>\n",
       "      <td>DuSable Lake Shore Dr &amp; Monroe St</td>\n",
       "      <td>995</td>\n",
       "    </tr>\n",
       "    <tr>\n",
       "      <th>32654</th>\n",
       "      <td>Michigan Ave &amp; Oak St</td>\n",
       "      <td>Michigan Ave &amp; Oak St</td>\n",
       "      <td>731</td>\n",
       "    </tr>\n",
       "    <tr>\n",
       "      <th>17578</th>\n",
       "      <td>DuSable Lake Shore Dr &amp; Monroe St</td>\n",
       "      <td>Streeter Dr &amp; Grand Ave</td>\n",
       "      <td>635</td>\n",
       "    </tr>\n",
       "    <tr>\n",
       "      <th>33632</th>\n",
       "      <td>Millennium Park</td>\n",
       "      <td>Millennium Park</td>\n",
       "      <td>504</td>\n",
       "    </tr>\n",
       "    <tr>\n",
       "      <th>...</th>\n",
       "      <td>...</td>\n",
       "      <td>...</td>\n",
       "      <td>...</td>\n",
       "    </tr>\n",
       "    <tr>\n",
       "      <th>24877</th>\n",
       "      <td>Kedzie Ave &amp; Milwaukee Ave</td>\n",
       "      <td>Wilton Ave &amp; Belmont Ave</td>\n",
       "      <td>1</td>\n",
       "    </tr>\n",
       "    <tr>\n",
       "      <th>24874</th>\n",
       "      <td>Kedzie Ave &amp; Milwaukee Ave</td>\n",
       "      <td>Western Ave &amp; Roscoe St</td>\n",
       "      <td>1</td>\n",
       "    </tr>\n",
       "    <tr>\n",
       "      <th>24873</th>\n",
       "      <td>Kedzie Ave &amp; Milwaukee Ave</td>\n",
       "      <td>Western Ave &amp; Leland Ave</td>\n",
       "      <td>1</td>\n",
       "    </tr>\n",
       "    <tr>\n",
       "      <th>24872</th>\n",
       "      <td>Kedzie Ave &amp; Milwaukee Ave</td>\n",
       "      <td>Western Ave &amp; Fillmore St</td>\n",
       "      <td>1</td>\n",
       "    </tr>\n",
       "    <tr>\n",
       "      <th>52818</th>\n",
       "      <td>Zapata Academy</td>\n",
       "      <td>California Ave &amp; 21st St</td>\n",
       "      <td>1</td>\n",
       "    </tr>\n",
       "  </tbody>\n",
       "</table>\n",
       "<p>52819 rows × 3 columns</p>\n",
       "</div>"
      ],
      "text/plain": [
       "                      start_station_name                   end_station_name  \\\n",
       "46593            Streeter Dr & Grand Ave            Streeter Dr & Grand Ave   \n",
       "17457  DuSable Lake Shore Dr & Monroe St  DuSable Lake Shore Dr & Monroe St   \n",
       "32654              Michigan Ave & Oak St              Michigan Ave & Oak St   \n",
       "17578  DuSable Lake Shore Dr & Monroe St            Streeter Dr & Grand Ave   \n",
       "33632                    Millennium Park                    Millennium Park   \n",
       "...                                  ...                                ...   \n",
       "24877         Kedzie Ave & Milwaukee Ave           Wilton Ave & Belmont Ave   \n",
       "24874         Kedzie Ave & Milwaukee Ave            Western Ave & Roscoe St   \n",
       "24873         Kedzie Ave & Milwaukee Ave           Western Ave & Leland Ave   \n",
       "24872         Kedzie Ave & Milwaukee Ave          Western Ave & Fillmore St   \n",
       "52818                     Zapata Academy           California Ave & 21st St   \n",
       "\n",
       "       Number of Trips  \n",
       "46593             1546  \n",
       "17457              995  \n",
       "32654              731  \n",
       "17578              635  \n",
       "33632              504  \n",
       "...                ...  \n",
       "24877                1  \n",
       "24874                1  \n",
       "24873                1  \n",
       "24872                1  \n",
       "52818                1  \n",
       "\n",
       "[52819 rows x 3 columns]"
      ]
     },
     "execution_count": 130,
     "metadata": {},
     "output_type": "execute_result"
    }
   ],
   "source": [
    "# get trips only for casual riders\n",
    "trips_df_casual = df[df['member_casual'] == 'casual'].groupby(['start_station_name','end_station_name']).size().reset_index(name = 'Number of Trips')\n",
    "trips_df_casual = trips_df_casual.sort_values(by='Number of Trips', ascending=False)\n",
    "trips_df_casual"
   ]
  },
  {
   "cell_type": "code",
   "execution_count": 132,
   "metadata": {},
   "outputs": [],
   "source": [
    "# convert the dataframe to a csv file\n",
    "trips_df_casual.to_csv('trips_df_casual.csv')"
   ]
  },
  {
   "cell_type": "code",
   "execution_count": 133,
   "metadata": {},
   "outputs": [],
   "source": [
    "# hence we can target top results in top stations for casual riders at evening."
   ]
  },
  {
   "cell_type": "code",
   "execution_count": null,
   "metadata": {},
   "outputs": [],
   "source": []
  }
 ],
 "metadata": {
  "kernelspec": {
   "display_name": "Python 3.10.2 64-bit",
   "language": "python",
   "name": "python3"
  },
  "language_info": {
   "codemirror_mode": {
    "name": "ipython",
    "version": 3
   },
   "file_extension": ".py",
   "mimetype": "text/x-python",
   "name": "python",
   "nbconvert_exporter": "python",
   "pygments_lexer": "ipython3",
   "version": "3.10.2"
  },
  "orig_nbformat": 4,
  "vscode": {
   "interpreter": {
    "hash": "04da3dd4e550443ddacb7cf92c53af2e62adbda91f65a23144a28bb58fe81823"
   }
  }
 },
 "nbformat": 4,
 "nbformat_minor": 2
}
